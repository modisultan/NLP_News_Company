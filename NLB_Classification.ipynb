{
 "cells": [
  {
   "cell_type": "code",
   "execution_count": 1,
   "id": "7d0aa5b5",
   "metadata": {},
   "outputs": [],
   "source": [
    "import nltk\n",
    "import pandas as pd\n",
    "import numpy as np\n",
    "import re, string\n",
    "import nltk\n",
    "from nltk.tokenize import word_tokenize\n",
    "from nltk.corpus import stopwords\n",
    "from nltk.tokenize import word_tokenize\n",
    "from nltk.stem import SnowballStemmer\n",
    "from nltk.corpus import wordnet\n",
    "from nltk.stem import WordNetLemmatizer\n",
    "from sklearn.feature_extraction.text import TfidfVectorizer\n",
    "from sklearn.metrics import classification_report\n",
    "\n",
    "import warnings\n",
    "warnings.filterwarnings('ignore')\n",
    "\n",
    "from wordcloud import WordCloud\n",
    "import matplotlib.pyplot as plt\n",
    "import seaborn as sns\n",
    "from textblob import TextBlob, Word\n",
    "from nltk.stem import PorterStemmer\n",
    "\n",
    "from sklearn.cluster import KMeans\n",
    "from sklearn.decomposition import TruncatedSVD\n",
    "from sklearn.decomposition import NMF\n",
    "\n",
    "from sklearn.decomposition import LatentDirichletAllocation, TruncatedSVD\n",
    "from sklearn import datasets\n",
    "\n",
    "from sklearn.model_selection import  RandomizedSearchCV,GridSearchCV"
   ]
  },
  {
   "cell_type": "code",
   "execution_count": 2,
   "id": "65ce5e3e",
   "metadata": {},
   "outputs": [],
   "source": [
    "from sklearn.metrics import accuracy_score,precision_score, auc,recall_score, precision_recall_curve, fbeta_score, confusion_matrix, classification_report, make_scorer,f1_score,roc_auc_score\n",
    "\n",
    "def model_eval(mdl_local, X_local, y_local, bta =1):\n",
    "    y_pred = mdl_local.predict(X_local)\n",
    "    \n",
    "    accuracy= accuracy_score(y_local, y_pred)\n",
    "    f1= fbeta_score(y_local, y_pred, beta= bta, average='macro')\n",
    "    precision= precision_score(y_local, y_pred, average='macro')\n",
    "    recall= recall_score(y_local, y_pred, average='macro')\n",
    "    print(\"Accurcy :\",accuracy)\n",
    "    print(f\"F({bta}):\",f1)\n",
    "    print(\"Precision :\",precision)\n",
    "    print(\"Recall :\",recall)\n",
    "    \n",
    "    cm_results = [accuracy, precision, recall, f1]\n",
    "    return cm_results\n",
    "# examble to use this function\n",
    "\n",
    "#lr.fit(X_train_tfidf1, y_train)\n",
    "#y_pred_tfidf1_lr = lr.predict(X_test_tfidf1)\n",
    "#me7=model_eval(lr,X_test_tfidf1,y_pred_tfidf1_lr)"
   ]
  },
  {
   "cell_type": "code",
   "execution_count": 3,
   "id": "1f53da96",
   "metadata": {},
   "outputs": [
    {
     "data": {
      "text/html": [
       "<div>\n",
       "<style scoped>\n",
       "    .dataframe tbody tr th:only-of-type {\n",
       "        vertical-align: middle;\n",
       "    }\n",
       "\n",
       "    .dataframe tbody tr th {\n",
       "        vertical-align: top;\n",
       "    }\n",
       "\n",
       "    .dataframe thead th {\n",
       "        text-align: right;\n",
       "    }\n",
       "</style>\n",
       "<table border=\"1\" class=\"dataframe\">\n",
       "  <thead>\n",
       "    <tr style=\"text-align: right;\">\n",
       "      <th></th>\n",
       "      <th>headline</th>\n",
       "      <th>clickbait</th>\n",
       "      <th>topices</th>\n",
       "      <th>popular_topices</th>\n",
       "    </tr>\n",
       "  </thead>\n",
       "  <tbody>\n",
       "    <tr>\n",
       "      <th>0</th>\n",
       "      <td>get bings</td>\n",
       "      <td>1</td>\n",
       "      <td>0</td>\n",
       "      <td>Entertainment</td>\n",
       "    </tr>\n",
       "    <tr>\n",
       "      <th>1</th>\n",
       "      <td>tv female friend group belong</td>\n",
       "      <td>1</td>\n",
       "      <td>0</td>\n",
       "      <td>Entertainment</td>\n",
       "    </tr>\n",
       "    <tr>\n",
       "      <th>2</th>\n",
       "      <td>new star war force awakens trailer give chill</td>\n",
       "      <td>1</td>\n",
       "      <td>0</td>\n",
       "      <td>Entertainment</td>\n",
       "    </tr>\n",
       "    <tr>\n",
       "      <th>3</th>\n",
       "      <td>vine new york celebrity big brother fucking pe...</td>\n",
       "      <td>1</td>\n",
       "      <td>0</td>\n",
       "      <td>Entertainment</td>\n",
       "    </tr>\n",
       "    <tr>\n",
       "      <th>4</th>\n",
       "      <td>couple stunning photo shoot baby learning inop...</td>\n",
       "      <td>1</td>\n",
       "      <td>2</td>\n",
       "      <td>Lifestyle</td>\n",
       "    </tr>\n",
       "    <tr>\n",
       "      <th>5</th>\n",
       "      <td>flirt queer girl without making total fool</td>\n",
       "      <td>1</td>\n",
       "      <td>3</td>\n",
       "      <td>Crimes</td>\n",
       "    </tr>\n",
       "    <tr>\n",
       "      <th>6</th>\n",
       "      <td>cute thing distract awkward thanksgiving</td>\n",
       "      <td>1</td>\n",
       "      <td>2</td>\n",
       "      <td>Lifestyle</td>\n",
       "    </tr>\n",
       "    <tr>\n",
       "      <th>7</th>\n",
       "      <td>disney princess florida</td>\n",
       "      <td>1</td>\n",
       "      <td>0</td>\n",
       "      <td>Entertainment</td>\n",
       "    </tr>\n",
       "    <tr>\n",
       "      <th>8</th>\n",
       "      <td>whats quote lyric best describes depression</td>\n",
       "      <td>1</td>\n",
       "      <td>0</td>\n",
       "      <td>Entertainment</td>\n",
       "    </tr>\n",
       "    <tr>\n",
       "      <th>9</th>\n",
       "      <td>natalie dormer sam claflin play game see theyd...</td>\n",
       "      <td>1</td>\n",
       "      <td>0</td>\n",
       "      <td>Entertainment</td>\n",
       "    </tr>\n",
       "    <tr>\n",
       "      <th>10</th>\n",
       "      <td>perfect response indian patriarchy</td>\n",
       "      <td>1</td>\n",
       "      <td>0</td>\n",
       "      <td>Entertainment</td>\n",
       "    </tr>\n",
       "    <tr>\n",
       "      <th>11</th>\n",
       "      <td>time died captain america civil war teaser</td>\n",
       "      <td>1</td>\n",
       "      <td>0</td>\n",
       "      <td>Entertainment</td>\n",
       "    </tr>\n",
       "    <tr>\n",
       "      <th>12</th>\n",
       "      <td>time kourtney kardashian shut family</td>\n",
       "      <td>1</td>\n",
       "      <td>1</td>\n",
       "      <td>Politics</td>\n",
       "    </tr>\n",
       "    <tr>\n",
       "      <th>13</th>\n",
       "      <td>coffee make poop</td>\n",
       "      <td>1</td>\n",
       "      <td>2</td>\n",
       "      <td>Lifestyle</td>\n",
       "    </tr>\n",
       "    <tr>\n",
       "      <th>14</th>\n",
       "      <td>celebrity ex based zodiac</td>\n",
       "      <td>1</td>\n",
       "      <td>0</td>\n",
       "      <td>Entertainment</td>\n",
       "    </tr>\n",
       "  </tbody>\n",
       "</table>\n",
       "</div>"
      ],
      "text/plain": [
       "                                             headline  clickbait  topices  \\\n",
       "0                                           get bings          1        0   \n",
       "1                       tv female friend group belong          1        0   \n",
       "2       new star war force awakens trailer give chill          1        0   \n",
       "3   vine new york celebrity big brother fucking pe...          1        0   \n",
       "4   couple stunning photo shoot baby learning inop...          1        2   \n",
       "5          flirt queer girl without making total fool          1        3   \n",
       "6            cute thing distract awkward thanksgiving          1        2   \n",
       "7                             disney princess florida          1        0   \n",
       "8         whats quote lyric best describes depression          1        0   \n",
       "9   natalie dormer sam claflin play game see theyd...          1        0   \n",
       "10                 perfect response indian patriarchy          1        0   \n",
       "11         time died captain america civil war teaser          1        0   \n",
       "12               time kourtney kardashian shut family          1        1   \n",
       "13                                   coffee make poop          1        2   \n",
       "14                          celebrity ex based zodiac          1        0   \n",
       "\n",
       "   popular_topices  \n",
       "0    Entertainment  \n",
       "1    Entertainment  \n",
       "2    Entertainment  \n",
       "3    Entertainment  \n",
       "4        Lifestyle  \n",
       "5           Crimes  \n",
       "6        Lifestyle  \n",
       "7    Entertainment  \n",
       "8    Entertainment  \n",
       "9    Entertainment  \n",
       "10   Entertainment  \n",
       "11   Entertainment  \n",
       "12        Politics  \n",
       "13       Lifestyle  \n",
       "14   Entertainment  "
      ]
     },
     "execution_count": 3,
     "metadata": {},
     "output_type": "execute_result"
    }
   ],
   "source": [
    "df = pd.read_csv('DataAfterMask.csv', index_col=0)\n",
    "df.head(15)"
   ]
  },
  {
   "cell_type": "code",
   "execution_count": 4,
   "id": "178adf9e",
   "metadata": {
    "scrolled": false
   },
   "outputs": [
    {
     "data": {
      "text/html": [
       "<div>\n",
       "<style scoped>\n",
       "    .dataframe tbody tr th:only-of-type {\n",
       "        vertical-align: middle;\n",
       "    }\n",
       "\n",
       "    .dataframe tbody tr th {\n",
       "        vertical-align: top;\n",
       "    }\n",
       "\n",
       "    .dataframe thead th {\n",
       "        text-align: right;\n",
       "    }\n",
       "</style>\n",
       "<table border=\"1\" class=\"dataframe\">\n",
       "  <thead>\n",
       "    <tr style=\"text-align: right;\">\n",
       "      <th></th>\n",
       "      <th>headline</th>\n",
       "      <th>clickbait</th>\n",
       "      <th>topices</th>\n",
       "      <th>popular_topices</th>\n",
       "    </tr>\n",
       "  </thead>\n",
       "  <tbody>\n",
       "    <tr>\n",
       "      <th>0</th>\n",
       "      <td>get bings</td>\n",
       "      <td>1</td>\n",
       "      <td>0</td>\n",
       "      <td>Entertainment</td>\n",
       "    </tr>\n",
       "    <tr>\n",
       "      <th>1</th>\n",
       "      <td>tv female friend group belong</td>\n",
       "      <td>1</td>\n",
       "      <td>0</td>\n",
       "      <td>Entertainment</td>\n",
       "    </tr>\n",
       "    <tr>\n",
       "      <th>2</th>\n",
       "      <td>new star war force awakens trailer give chill</td>\n",
       "      <td>1</td>\n",
       "      <td>0</td>\n",
       "      <td>Entertainment</td>\n",
       "    </tr>\n",
       "    <tr>\n",
       "      <th>3</th>\n",
       "      <td>vine new york celebrity big brother fucking pe...</td>\n",
       "      <td>1</td>\n",
       "      <td>0</td>\n",
       "      <td>Entertainment</td>\n",
       "    </tr>\n",
       "    <tr>\n",
       "      <th>4</th>\n",
       "      <td>couple stunning photo shoot baby learning inop...</td>\n",
       "      <td>1</td>\n",
       "      <td>2</td>\n",
       "      <td>Lifestyle</td>\n",
       "    </tr>\n",
       "    <tr>\n",
       "      <th>5</th>\n",
       "      <td>flirt queer girl without making total fool</td>\n",
       "      <td>1</td>\n",
       "      <td>3</td>\n",
       "      <td>Breaking news</td>\n",
       "    </tr>\n",
       "    <tr>\n",
       "      <th>6</th>\n",
       "      <td>cute thing distract awkward thanksgiving</td>\n",
       "      <td>1</td>\n",
       "      <td>2</td>\n",
       "      <td>Lifestyle</td>\n",
       "    </tr>\n",
       "    <tr>\n",
       "      <th>7</th>\n",
       "      <td>disney princess florida</td>\n",
       "      <td>1</td>\n",
       "      <td>0</td>\n",
       "      <td>Entertainment</td>\n",
       "    </tr>\n",
       "    <tr>\n",
       "      <th>8</th>\n",
       "      <td>whats quote lyric best describes depression</td>\n",
       "      <td>1</td>\n",
       "      <td>0</td>\n",
       "      <td>Entertainment</td>\n",
       "    </tr>\n",
       "    <tr>\n",
       "      <th>9</th>\n",
       "      <td>natalie dormer sam claflin play game see theyd...</td>\n",
       "      <td>1</td>\n",
       "      <td>0</td>\n",
       "      <td>Entertainment</td>\n",
       "    </tr>\n",
       "    <tr>\n",
       "      <th>10</th>\n",
       "      <td>perfect response indian patriarchy</td>\n",
       "      <td>1</td>\n",
       "      <td>0</td>\n",
       "      <td>Entertainment</td>\n",
       "    </tr>\n",
       "    <tr>\n",
       "      <th>11</th>\n",
       "      <td>time died captain america civil war teaser</td>\n",
       "      <td>1</td>\n",
       "      <td>0</td>\n",
       "      <td>Entertainment</td>\n",
       "    </tr>\n",
       "    <tr>\n",
       "      <th>12</th>\n",
       "      <td>time kourtney kardashian shut family</td>\n",
       "      <td>1</td>\n",
       "      <td>1</td>\n",
       "      <td>Politics</td>\n",
       "    </tr>\n",
       "    <tr>\n",
       "      <th>13</th>\n",
       "      <td>coffee make poop</td>\n",
       "      <td>1</td>\n",
       "      <td>2</td>\n",
       "      <td>Lifestyle</td>\n",
       "    </tr>\n",
       "    <tr>\n",
       "      <th>14</th>\n",
       "      <td>celebrity ex based zodiac</td>\n",
       "      <td>1</td>\n",
       "      <td>0</td>\n",
       "      <td>Entertainment</td>\n",
       "    </tr>\n",
       "  </tbody>\n",
       "</table>\n",
       "</div>"
      ],
      "text/plain": [
       "                                             headline  clickbait  topices  \\\n",
       "0                                           get bings          1        0   \n",
       "1                       tv female friend group belong          1        0   \n",
       "2       new star war force awakens trailer give chill          1        0   \n",
       "3   vine new york celebrity big brother fucking pe...          1        0   \n",
       "4   couple stunning photo shoot baby learning inop...          1        2   \n",
       "5          flirt queer girl without making total fool          1        3   \n",
       "6            cute thing distract awkward thanksgiving          1        2   \n",
       "7                             disney princess florida          1        0   \n",
       "8         whats quote lyric best describes depression          1        0   \n",
       "9   natalie dormer sam claflin play game see theyd...          1        0   \n",
       "10                 perfect response indian patriarchy          1        0   \n",
       "11         time died captain america civil war teaser          1        0   \n",
       "12               time kourtney kardashian shut family          1        1   \n",
       "13                                   coffee make poop          1        2   \n",
       "14                          celebrity ex based zodiac          1        0   \n",
       "\n",
       "   popular_topices  \n",
       "0    Entertainment  \n",
       "1    Entertainment  \n",
       "2    Entertainment  \n",
       "3    Entertainment  \n",
       "4        Lifestyle  \n",
       "5    Breaking news  \n",
       "6        Lifestyle  \n",
       "7    Entertainment  \n",
       "8    Entertainment  \n",
       "9    Entertainment  \n",
       "10   Entertainment  \n",
       "11   Entertainment  \n",
       "12        Politics  \n",
       "13       Lifestyle  \n",
       "14   Entertainment  "
      ]
     },
     "execution_count": 4,
     "metadata": {},
     "output_type": "execute_result"
    }
   ],
   "source": [
    "df['popular_topices'].replace(['Crimes'], 'Breaking news',inplace=True )\n",
    "df.head(15)"
   ]
  },
  {
   "cell_type": "code",
   "execution_count": 5,
   "id": "1e6d1717",
   "metadata": {
    "scrolled": true
   },
   "outputs": [
    {
     "name": "stdout",
     "output_type": "stream",
     "text": [
      "<class 'pandas.core.frame.DataFrame'>\n",
      "Int64Index: 15999 entries, 0 to 15998\n",
      "Data columns (total 4 columns):\n",
      " #   Column           Non-Null Count  Dtype \n",
      "---  ------           --------------  ----- \n",
      " 0   headline         15997 non-null  object\n",
      " 1   clickbait        15999 non-null  int64 \n",
      " 2   topices          15999 non-null  int64 \n",
      " 3   popular_topices  15999 non-null  object\n",
      "dtypes: int64(2), object(2)\n",
      "memory usage: 625.0+ KB\n"
     ]
    }
   ],
   "source": [
    "df.info()"
   ]
  },
  {
   "cell_type": "code",
   "execution_count": 6,
   "id": "556be1f5",
   "metadata": {
    "scrolled": false
   },
   "outputs": [
    {
     "data": {
      "text/plain": [
       "headline           2\n",
       "clickbait          0\n",
       "topices            0\n",
       "popular_topices    0\n",
       "dtype: int64"
      ]
     },
     "execution_count": 6,
     "metadata": {},
     "output_type": "execute_result"
    }
   ],
   "source": [
    "df.isna().sum()"
   ]
  },
  {
   "cell_type": "code",
   "execution_count": 7,
   "id": "5b99e9b3",
   "metadata": {},
   "outputs": [],
   "source": [
    "df.dropna(inplace=True)"
   ]
  },
  {
   "cell_type": "code",
   "execution_count": 8,
   "id": "70701332",
   "metadata": {},
   "outputs": [
    {
     "data": {
      "text/plain": [
       "2    6670\n",
       "0    5748\n",
       "3    2024\n",
       "1    1555\n",
       "Name: topices, dtype: int64"
      ]
     },
     "execution_count": 8,
     "metadata": {},
     "output_type": "execute_result"
    }
   ],
   "source": [
    "df.topices.value_counts()"
   ]
  },
  {
   "cell_type": "code",
   "execution_count": 9,
   "id": "0dc5025a",
   "metadata": {
    "scrolled": true
   },
   "outputs": [
    {
     "data": {
      "text/plain": [
       "Text(0.5, 1.0, 'most topices are clicked')"
      ]
     },
     "execution_count": 9,
     "metadata": {},
     "output_type": "execute_result"
    },
    {
     "data": {
      "image/png": "[encoded data removed]",
      "text/plain": [
       "<Figure size 576x288 with 1 Axes>"
      ]
     },
     "metadata": {
      "needs_background": "light"
     },
     "output_type": "display_data"
    }
   ],
   "source": [
    "df.groupby('popular_topices')['clickbait'].sum().sort_values(ascending=False).plot(kind='bar',figsize=(8,4),color=['#7F94AA'])\n",
    "plt.title(\"most topices are clicked\",fontsize=20,)"
   ]
  },
  {
   "cell_type": "markdown",
   "id": "9f3d2260",
   "metadata": {},
   "source": [
    "# determine lable and target"
   ]
  },
  {
   "cell_type": "code",
   "execution_count": 10,
   "id": "56668aab",
   "metadata": {},
   "outputs": [],
   "source": [
    "x=df.headline\n",
    "y=df.popular_topices"
   ]
  },
  {
   "cell_type": "code",
   "execution_count": 11,
   "id": "644476a0",
   "metadata": {},
   "outputs": [],
   "source": [
    "from sklearn.model_selection import train_test_split\n",
    "X_train, X_test, y_train, y_test = train_test_split(x, y, test_size=0.3, random_state=42)"
   ]
  },
  {
   "cell_type": "code",
   "execution_count": 12,
   "id": "e845d042",
   "metadata": {},
   "outputs": [
    {
     "data": {
      "text/plain": [
       "<AxesSubplot:>"
      ]
     },
     "execution_count": 12,
     "metadata": {},
     "output_type": "execute_result"
    },
    {
     "data": {
      "image/png": "[encoded data removed]",
      "text/plain": [
       "<Figure size 432x288 with 1 Axes>"
      ]
     },
     "metadata": {
      "needs_background": "light"
     },
     "output_type": "display_data"
    }
   ],
   "source": [
    "y.hist()"
   ]
  },
  {
   "cell_type": "markdown",
   "id": "c6b300c5",
   "metadata": {},
   "source": [
    "# count vectorizer "
   ]
  },
  {
   "cell_type": "code",
   "execution_count": 13,
   "id": "2289d73d",
   "metadata": {},
   "outputs": [],
   "source": [
    "# The first document-term matrix has default Count Vectorizer values - counts of unigrams\n",
    "from sklearn.feature_extraction.text import CountVectorizer\n",
    "\n",
    "cv1 = CountVectorizer(stop_words='english')\n",
    "\n",
    "X_train_cv1 = cv1.fit_transform(X_train)\n",
    "X_test_cv1  = cv1.transform(X_test)\n",
    "\n",
    "cv2 = CountVectorizer(ngram_range=(1,2), binary=True, stop_words='english')\n",
    "\n",
    "X_train_cv2 = cv2.fit_transform(X_train)\n",
    "X_test_cv2  = cv2.transform(X_test)\n"
   ]
  },
  {
   "cell_type": "markdown",
   "id": "46d378e3",
   "metadata": {},
   "source": [
    "#### * model eval doesn't give a logical result (it gives 1 for every exper) so we going with classification report"
   ]
  },
  {
   "cell_type": "markdown",
   "id": "56cd7a33",
   "metadata": {},
   "source": [
    "### logistic regression"
   ]
  },
  {
   "cell_type": "code",
   "execution_count": 14,
   "id": "4671b181",
   "metadata": {
    "scrolled": true
   },
   "outputs": [
    {
     "name": "stdout",
     "output_type": "stream",
     "text": [
      "               precision    recall  f1-score   support\n",
      "\n",
      "Entertainment       0.71      0.46      0.56       592\n",
      "    Lifestyle       0.78      0.83      0.80      1755\n",
      "Breaking news       0.77      0.88      0.82      1981\n",
      "     Politics       0.66      0.38      0.48       472\n",
      "\n",
      "     accuracy                           0.76      4800\n",
      "    macro avg       0.73      0.64      0.67      4800\n",
      " weighted avg       0.75      0.76      0.75      4800\n",
      "\n"
     ]
    }
   ],
   "source": [
    "from sklearn.linear_model import LogisticRegression \n",
    "lr = LogisticRegression()\n",
    "lr.fit(X_train_cv1, y_train)\n",
    "y_pred_cv1 = lr.predict(X_test_cv1)\n",
    "target_names = ['Entertainment', 'Lifestyle', 'Breaking news','Politics']\n",
    "m1=print(classification_report(y_test, y_pred_cv1, target_names=target_names))\n",
    "m1"
   ]
  },
  {
   "cell_type": "code",
   "execution_count": 15,
   "id": "1d7720c7",
   "metadata": {},
   "outputs": [
    {
     "data": {
      "text/plain": [
       "['finalized_model.sav']"
      ]
     },
     "execution_count": 15,
     "metadata": {},
     "output_type": "execute_result"
    }
   ],
   "source": [
    "import joblib\n",
    "\n",
    "filename = 'finalized_model.sav'\n",
    "joblib.dump(lr, filename)"
   ]
  },
  {
   "cell_type": "code",
   "execution_count": 16,
   "id": "113d6f80",
   "metadata": {
    "scrolled": true
   },
   "outputs": [
    {
     "name": "stdout",
     "output_type": "stream",
     "text": [
      "               precision    recall  f1-score   support\n",
      "\n",
      "Entertainment       0.74      0.41      0.53       592\n",
      "    Lifestyle       0.77      0.81      0.79      1755\n",
      "Breaking news       0.73      0.89      0.80      1981\n",
      "     Politics       0.71      0.32      0.44       472\n",
      "\n",
      "     accuracy                           0.74      4800\n",
      "    macro avg       0.74      0.61      0.64      4800\n",
      " weighted avg       0.74      0.74      0.73      4800\n",
      "\n"
     ]
    }
   ],
   "source": [
    "lr = LogisticRegression()\n",
    "lr.fit(X_train_cv2, y_train)\n",
    "y_pred_cv2 = lr.predict(X_test_cv2)\n",
    "target_names = ['Entertainment', 'Lifestyle', 'Breaking news','Politics']\n",
    "m2=print(classification_report(y_test, y_pred_cv2, target_names=target_names))\n",
    "m2"
   ]
  },
  {
   "cell_type": "markdown",
   "id": "fe8ee207",
   "metadata": {},
   "source": [
    "### Naive Bayes-Multinomial"
   ]
  },
  {
   "cell_type": "code",
   "execution_count": 17,
   "id": "61a3eab5",
   "metadata": {
    "scrolled": true
   },
   "outputs": [
    {
     "name": "stdout",
     "output_type": "stream",
     "text": [
      "               precision    recall  f1-score   support\n",
      "\n",
      "Entertainment       0.75      0.28      0.41       592\n",
      "    Lifestyle       0.76      0.80      0.78      1755\n",
      "Breaking news       0.70      0.91      0.79      1981\n",
      "     Politics       0.77      0.25      0.38       472\n",
      "\n",
      "     accuracy                           0.73      4800\n",
      "    macro avg       0.75      0.56      0.59      4800\n",
      " weighted avg       0.74      0.73      0.70      4800\n",
      "\n"
     ]
    }
   ],
   "source": [
    "from sklearn.naive_bayes import MultinomialNB\n",
    "\n",
    "mnb = MultinomialNB()\n",
    "mnb.fit(X_train_cv1, y_train)\n",
    "y_pred_cv1_nb = mnb.predict(X_test_cv1)\n",
    "target_names = ['Entertainment', 'Lifestyle', 'Breaking news','Politics']\n",
    "m3=print(classification_report(y_test, y_pred_cv1_nb, target_names=target_names))\n",
    "m3"
   ]
  },
  {
   "cell_type": "code",
   "execution_count": 18,
   "id": "e57d30f1",
   "metadata": {
    "scrolled": false
   },
   "outputs": [
    {
     "name": "stdout",
     "output_type": "stream",
     "text": [
      "               precision    recall  f1-score   support\n",
      "\n",
      "Entertainment       0.81      0.19      0.31       592\n",
      "    Lifestyle       0.75      0.79      0.77      1755\n",
      "Breaking news       0.68      0.92      0.78      1981\n",
      "     Politics       0.84      0.19      0.31       472\n",
      "\n",
      "     accuracy                           0.71      4800\n",
      "    macro avg       0.77      0.52      0.54      4800\n",
      " weighted avg       0.74      0.71      0.67      4800\n",
      "\n"
     ]
    }
   ],
   "source": [
    "from sklearn.naive_bayes import MultinomialNB\n",
    "mnb = MultinomialNB()\n",
    "mnb.fit(X_train_cv2, y_train)\n",
    "y_pred_cv2_nb = mnb.predict(X_test_cv2)\n",
    "target_names = ['Entertainment', 'Lifestyle', 'Breaking news','Politics']\n",
    "m4=print(classification_report(y_test, y_pred_cv2_nb, target_names=target_names))\n",
    "m4"
   ]
  },
  {
   "cell_type": "markdown",
   "id": "926bb57a",
   "metadata": {},
   "source": [
    "### Naive Bayes-Bernoulli"
   ]
  },
  {
   "cell_type": "code",
   "execution_count": 19,
   "id": "818552f2",
   "metadata": {
    "scrolled": true
   },
   "outputs": [
    {
     "name": "stdout",
     "output_type": "stream",
     "text": [
      "               precision    recall  f1-score   support\n",
      "\n",
      "Entertainment       0.80      0.10      0.18       592\n",
      "    Lifestyle       0.74      0.79      0.76      1755\n",
      "Breaking news       0.66      0.93      0.77      1981\n",
      "     Politics       0.94      0.07      0.13       472\n",
      "\n",
      "     accuracy                           0.69      4800\n",
      "    macro avg       0.78      0.47      0.46      4800\n",
      " weighted avg       0.73      0.69      0.63      4800\n",
      "\n"
     ]
    }
   ],
   "source": [
    "# Fit the second Naive Bayes model\n",
    "from sklearn.naive_bayes import BernoulliNB\n",
    "\n",
    "bnb = BernoulliNB()\n",
    "bnb.fit(X_train_cv1, y_train)\n",
    "y_pred_cv1_nb = bnb.predict(X_test_cv1)\n",
    "target_names = ['Entertainment', 'Lifestyle', 'Breaking news','Politics']\n",
    "m5=print(classification_report(y_test, y_pred_cv1_nb, target_names=target_names))\n",
    "m5"
   ]
  },
  {
   "cell_type": "code",
   "execution_count": 20,
   "id": "04c96781",
   "metadata": {
    "scrolled": false
   },
   "outputs": [
    {
     "name": "stdout",
     "output_type": "stream",
     "text": [
      "               precision    recall  f1-score   support\n",
      "\n",
      "Entertainment       1.00      0.01      0.02       592\n",
      "    Lifestyle       0.79      0.66      0.72      1755\n",
      "Breaking news       0.57      0.96      0.72      1981\n",
      "     Politics       0.00      0.00      0.00       472\n",
      "\n",
      "     accuracy                           0.64      4800\n",
      "    macro avg       0.59      0.41      0.36      4800\n",
      " weighted avg       0.65      0.64      0.56      4800\n",
      "\n"
     ]
    }
   ],
   "source": [
    "bnb = BernoulliNB()\n",
    "bnb.fit(X_train_cv2, y_train)\n",
    "y_pred_cv2_nb = bnb.predict(X_test_cv2)\n",
    "target_names = ['Entertainment', 'Lifestyle', 'Breaking news','Politics']\n",
    "m6=print(classification_report(y_test, y_pred_cv2_nb, target_names=target_names))\n",
    "m6"
   ]
  },
  {
   "cell_type": "markdown",
   "id": "ba6e60f9",
   "metadata": {},
   "source": [
    "# TF-IDF"
   ]
  },
  {
   "cell_type": "code",
   "execution_count": 21,
   "id": "3c50366e",
   "metadata": {},
   "outputs": [],
   "source": [
    "# Create TF-IDF versions of the Count Vectorizers created earlier in the exercise\n",
    "from sklearn.feature_extraction.text import TfidfVectorizer\n",
    "\n",
    "tfidf1 = TfidfVectorizer(stop_words='english')\n",
    "X_train_tfidf1 = tfidf1.fit_transform(X_train)\n",
    "X_test_tfidf1  = tfidf1.transform(X_test)\n",
    "\n",
    "tfidf2 = TfidfVectorizer(ngram_range=(1,2), binary=True, stop_words='english')\n",
    "X_train_tfidf2 = tfidf2.fit_transform(X_train)\n",
    "X_test_tfidf2  = tfidf2.transform(X_test)"
   ]
  },
  {
   "cell_type": "markdown",
   "id": "0bcb0849",
   "metadata": {},
   "source": [
    "### logistic regression"
   ]
  },
  {
   "cell_type": "code",
   "execution_count": 22,
   "id": "b6a67589",
   "metadata": {
    "scrolled": false
   },
   "outputs": [
    {
     "name": "stdout",
     "output_type": "stream",
     "text": [
      "               precision    recall  f1-score   support\n",
      "\n",
      "Entertainment       0.81      0.33      0.47       592\n",
      "    Lifestyle       0.75      0.83      0.79      1755\n",
      "Breaking news       0.73      0.91      0.81      1981\n",
      "     Politics       0.81      0.26      0.39       472\n",
      "\n",
      "     accuracy                           0.74      4800\n",
      "    macro avg       0.78      0.58      0.61      4800\n",
      " weighted avg       0.75      0.74      0.72      4800\n",
      "\n"
     ]
    }
   ],
   "source": [
    "# Fit the first logistic regression on the TF-IDF data\n",
    "lr.fit(X_train_tfidf1, y_train)\n",
    "y_pred_tfidf1_lr = lr.predict(X_test_tfidf1)\n",
    "target_names = ['Entertainment', 'Lifestyle', 'Breaking news','Politics']\n",
    "m7=print(classification_report(y_test, y_pred_tfidf1_lr, target_names=target_names))\n",
    "m7"
   ]
  },
  {
   "cell_type": "code",
   "execution_count": 23,
   "id": "940c47dc",
   "metadata": {
    "scrolled": true
   },
   "outputs": [
    {
     "name": "stdout",
     "output_type": "stream",
     "text": [
      "               precision    recall  f1-score   support\n",
      "\n",
      "Entertainment       0.84      0.23      0.37       592\n",
      "    Lifestyle       0.73      0.79      0.76      1755\n",
      "Breaking news       0.68      0.91      0.78      1981\n",
      "     Politics       0.83      0.18      0.30       472\n",
      "\n",
      "     accuracy                           0.71      4800\n",
      "    macro avg       0.77      0.53      0.55      4800\n",
      " weighted avg       0.73      0.71      0.67      4800\n",
      "\n"
     ]
    }
   ],
   "source": [
    "# Fit the first logistic regression on the TF-IDF data\n",
    "lr.fit(X_train_tfidf2, y_train)\n",
    "y_pred_tfidf2_lr = lr.predict(X_test_tfidf2)\n",
    "target_names = ['Entertainment', 'Lifestyle', 'Breaking news','Politics']\n",
    "m8=print(classification_report(y_test, y_pred_tfidf2_lr, target_names=target_names))\n",
    "m8"
   ]
  },
  {
   "cell_type": "markdown",
   "id": "bae5573e",
   "metadata": {},
   "source": [
    "### Naive Bayes-Multinomial"
   ]
  },
  {
   "cell_type": "code",
   "execution_count": 24,
   "id": "c5360e2d",
   "metadata": {
    "scrolled": true
   },
   "outputs": [
    {
     "name": "stdout",
     "output_type": "stream",
     "text": [
      "               precision    recall  f1-score   support\n",
      "\n",
      "Entertainment       0.74      0.04      0.08       592\n",
      "    Lifestyle       0.75      0.79      0.77      1755\n",
      "Breaking news       0.65      0.95      0.77      1981\n",
      "     Politics       0.95      0.04      0.07       472\n",
      "\n",
      "     accuracy                           0.69      4800\n",
      "    macro avg       0.77      0.45      0.42      4800\n",
      " weighted avg       0.72      0.69      0.62      4800\n",
      "\n"
     ]
    }
   ],
   "source": [
    "mnb = MultinomialNB()\n",
    "mnb.fit(X_train_tfidf1, y_train)\n",
    "y_pred_tfidf1_nb = mnb.predict(X_test_tfidf1)\n",
    "target_names = ['Entertainment', 'Lifestyle', 'Breaking news','Politics']\n",
    "m9=print(classification_report(y_test, y_pred_tfidf1_nb, target_names=target_names))\n",
    "m9"
   ]
  },
  {
   "cell_type": "code",
   "execution_count": 25,
   "id": "98291918",
   "metadata": {
    "scrolled": true
   },
   "outputs": [
    {
     "name": "stdout",
     "output_type": "stream",
     "text": [
      "               precision    recall  f1-score   support\n",
      "\n",
      "Entertainment       0.83      0.03      0.05       592\n",
      "    Lifestyle       0.75      0.75      0.75      1755\n",
      "Breaking news       0.62      0.94      0.75      1981\n",
      "     Politics       1.00      0.02      0.03       472\n",
      "\n",
      "     accuracy                           0.67      4800\n",
      "    macro avg       0.80      0.44      0.40      4800\n",
      " weighted avg       0.73      0.67      0.59      4800\n",
      "\n"
     ]
    }
   ],
   "source": [
    "mnb = MultinomialNB()\n",
    "mnb.fit(X_train_tfidf2, y_train)\n",
    "y_pred_tfidf2_nb = mnb.predict(X_test_tfidf2)\n",
    "target_names = ['Entertainment', 'Lifestyle', 'Breaking news','Politics']\n",
    "m10=print(classification_report(y_test, y_pred_tfidf2_nb, target_names=target_names))\n",
    "m10"
   ]
  },
  {
   "cell_type": "markdown",
   "id": "668ed660",
   "metadata": {},
   "source": [
    "### Naive Bayes-Bernoulli"
   ]
  },
  {
   "cell_type": "code",
   "execution_count": 26,
   "id": "b2bc14dd",
   "metadata": {
    "scrolled": true
   },
   "outputs": [
    {
     "name": "stdout",
     "output_type": "stream",
     "text": [
      "               precision    recall  f1-score   support\n",
      "\n",
      "Entertainment       0.80      0.10      0.18       592\n",
      "    Lifestyle       0.74      0.79      0.76      1755\n",
      "Breaking news       0.66      0.93      0.77      1981\n",
      "     Politics       0.94      0.07      0.13       472\n",
      "\n",
      "     accuracy                           0.69      4800\n",
      "    macro avg       0.78      0.47      0.46      4800\n",
      " weighted avg       0.73      0.69      0.63      4800\n",
      "\n"
     ]
    }
   ],
   "source": [
    "# Fit the second Naive Bayes model\n",
    "from sklearn.naive_bayes import BernoulliNB\n",
    "\n",
    "bnb = BernoulliNB()\n",
    "bnb.fit(X_train_tfidf1, y_train)\n",
    "y_pred_tfidf_nb = bnb.predict(X_test_tfidf1)\n",
    "target_names = ['Entertainment', 'Lifestyle', 'Breaking news','Politics']\n",
    "m11=print(classification_report(y_test, y_pred_tfidf_nb, target_names=target_names))\n",
    "m11"
   ]
  },
  {
   "cell_type": "code",
   "execution_count": 27,
   "id": "a6dad56f",
   "metadata": {
    "scrolled": true
   },
   "outputs": [
    {
     "name": "stdout",
     "output_type": "stream",
     "text": [
      "               precision    recall  f1-score   support\n",
      "\n",
      "Entertainment       1.00      0.01      0.02       592\n",
      "    Lifestyle       0.79      0.66      0.72      1755\n",
      "Breaking news       0.57      0.96      0.72      1981\n",
      "     Politics       0.00      0.00      0.00       472\n",
      "\n",
      "     accuracy                           0.64      4800\n",
      "    macro avg       0.59      0.41      0.36      4800\n",
      " weighted avg       0.65      0.64      0.56      4800\n",
      "\n"
     ]
    }
   ],
   "source": [
    "bnb = BernoulliNB()\n",
    "bnb.fit(X_train_tfidf2, y_train)\n",
    "y_pred_tfidf2_nb = bnb.predict(X_test_tfidf2)\n",
    "target_names = ['Entertainment', 'Lifestyle', 'Breaking news','Politics']\n",
    "m12=print(classification_report(y_test, y_pred_tfidf2_nb, target_names=target_names))\n",
    "m12"
   ]
  },
  {
   "cell_type": "markdown",
   "id": "70fb6d34",
   "metadata": {},
   "source": [
    "#### the best model is logistic regeression with count vectorize"
   ]
  },
  {
   "cell_type": "markdown",
   "id": "c77d6b90",
   "metadata": {},
   "source": [
    "# test the model on unseen data"
   ]
  },
  {
   "cell_type": "code",
   "execution_count": 28,
   "id": "02fd36fa",
   "metadata": {},
   "outputs": [
    {
     "data": {
      "text/plain": [
       "array(['Breaking news'], dtype=object)"
      ]
     },
     "execution_count": 28,
     "metadata": {},
     "output_type": "execute_result"
    }
   ],
   "source": [
    "from keras.models import load_model\n",
    "loaded_model = joblib.load('finalized_model.sav')\n",
    "\n",
    "#(( SEU, decides to make attendance online this week because of Covid Cases,TV shows become more populare now,U.S. Hits Record Number of New Covid Cases Twice in Same Week))\n",
    "\n",
    "test = ['U.S. Hits Record Number of New Covid Cases Twice in Same Week'] \n",
    "test_vec = cv1.transform(test)\n",
    "loaded_model.predict(test_vec)\n",
    "\n",
    "# returns predicted class"
   ]
  },
  {
   "cell_type": "code",
   "execution_count": null,
   "id": "fe514ac8",
   "metadata": {},
   "outputs": [],
   "source": []
  }
 ],
 "metadata": {
  "kernelspec": {
   "display_name": "Python 3 (ipykernel)",
   "language": "python",
   "name": "python3"
  },
  "language_info": {
   "codemirror_mode": {
    "name": "ipython",
    "version": 3
   },
   "file_extension": ".py",
   "mimetype": "text/x-python",
   "name": "python",
   "nbconvert_exporter": "python",
   "pygments_lexer": "ipython3",
   "version": "3.8.8"
  }
 },
 "nbformat": 4,
 "nbformat_minor": 5
}
